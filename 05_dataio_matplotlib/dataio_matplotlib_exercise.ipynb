{
 "cells": [
  {
   "cell_type": "markdown",
   "metadata": {},
   "source": [
    "# Exercise 1: reading FASTA files"
   ]
  },
  {
   "cell_type": "markdown",
   "metadata": {},
   "source": [
    "The [FASTA](http://en.wikipedia.org/wiki/FASTA_format)-format is a text-based format for nucleotide and protein sequences. A FASTA File begins with a single line description which is indicated by a leading \">\".\n",
    "\n",
    "Example:\n",
    "\n",
    "> \\>gi|31563518|ref|NP_852610.1| microtubule-associated proteins 1A/1B light chain 3A isoform b [Homo sapiens] MKMRFFSSPCGKAAVDPADRCKEVQQIRDQHPSKIPVIIERYKGEKQLPVLDKTKFLVPDHVNMSELVKIIRRRLQLNPTQAFFLLVNQHSMVSVSTPIADIYEQEKDEDGFLYMVYASQETFGFIRENE\n",
    "\n",
    "* parse the nucleotide sequence in the file `GPD1_seq.fasta` (omit the description line)\n",
    "* write a function `compute_nt_composition( sequence )`, which returns a dictionary containing the number of ocurrences for each base in a given sequence\n",
    "* compute the nucleotide composition of the GDP1 protein and pickle the result to a file\n"
   ]
  },
  {
   "cell_type": "code",
<<<<<<< HEAD
   "execution_count": 29,
=======
   "execution_count": 64,
>>>>>>> 81268a62d36ca18c7ac42161cee7ec26a756c2bb
   "metadata": {
    "collapsed": false
   },
   "outputs": [
    {
<<<<<<< HEAD
     "ename": "NameError",
     "evalue": "name 'string' is not defined",
     "output_type": "error",
     "traceback": [
      "\u001b[0;31m---------------------------------------------------------------------------\u001b[0m",
      "\u001b[0;31mNameError\u001b[0m                                 Traceback (most recent call last)",
      "\u001b[0;32m<ipython-input-29-1b890fe14511>\u001b[0m in \u001b[0;36m<module>\u001b[0;34m()\u001b[0m\n\u001b[1;32m     12\u001b[0m \u001b[0;34m\u001b[0m\u001b[0m\n\u001b[1;32m     13\u001b[0m \u001b[0;31m#x = str.count(line)\u001b[0m\u001b[0;34m\u001b[0m\u001b[0;34m\u001b[0m\u001b[0m\n\u001b[0;32m---> 14\u001b[0;31m \u001b[0mstring\u001b[0m\u001b[0;34m.\u001b[0m\u001b[0mcount\u001b[0m\u001b[0;34m(\u001b[0m\u001b[0;34m)\u001b[0m\u001b[0;34m\u001b[0m\u001b[0m\n\u001b[0m\u001b[1;32m     15\u001b[0m \u001b[0;34m\u001b[0m\u001b[0m\n\u001b[1;32m     16\u001b[0m \u001b[0;32mprint\u001b[0m \u001b[0mx\u001b[0m\u001b[0;34m\u001b[0m\u001b[0m\n",
      "\u001b[0;31mNameError\u001b[0m: name 'string' is not defined"
=======
     "ename": "IndentationError",
     "evalue": "expected an indented block (<ipython-input-64-d3fc8a62e526>, line 11)",
     "output_type": "error",
     "traceback": [
      "\u001b[0;36m  File \u001b[0;32m\"<ipython-input-64-d3fc8a62e526>\"\u001b[0;36m, line \u001b[0;32m11\u001b[0m\n\u001b[0;31m    x = string.count('A')\u001b[0m\n\u001b[0m    ^\u001b[0m\n\u001b[0;31mIndentationError\u001b[0m\u001b[0;31m:\u001b[0m expected an indented block\n"
>>>>>>> 81268a62d36ca18c7ac42161cee7ec26a756c2bb
     ]
    }
   ],
   "source": [
    "import cPickle as pickle\n",
<<<<<<< HEAD
    "with open('GPD1_seq.fasta', 'r') as fasta:\n",
    "    lines = fasta.readlines()\n",
    "#    print lines\n",
    "\n",
    "data = {}\n",
    "    \n",
    "for line in lines:\n",
    "    if line.startswith('>'): # skip comments\n",
    "        continue\n",
    "#    print line\n",
    "\n",
    "x = str.count(line)\n",
    "\n",
    "print x\n",
    "\n",
    "\n",
    "\n",
    "\n",
    "\"\"\"\n",
    "A,T,G,C =0,0,0,0 #Zähler für Nucleinsäuren\n",
    "a = 0 #Zeiger für Position\n",
    "b = len(str.strip(line))\n",
    " \n",
    "    \n",
    "def compute_nt_composition(sequence):\n",
    "    c = str.strip.type(line)\n",
    "    while a <= b:\n",
    "        if c[a] == A:\n",
    "            a = a+1\n",
    "            A = A+1\n",
    "        if c[a] == T:\n",
    "            a = a+1\n",
    "            T = T+1\n",
    "        if c[a] == G:\n",
    "            a = a+1\n",
    "            G = G+1\n",
    "        if c[a] == C:\n",
    "            a = a+1\n",
    "            C = C+1\n",
    "\"\"\"\n",
    "print A, T, G, C"
=======
    "with open('GPD1_seq.fasta', 'r') as g:\n",
    "    lines=g.readlines()\n",
    "    \n",
    "for line in lines:\n",
    "    if line.startswith('<'):\n",
    "        continue\n",
    "def compute_nt_composition(line):\n",
    "    for gene in line:\n",
    "        if gene == 'A':\n",
    "        x = string.count('A')\n",
    "        elif gene == 'C':\n",
    "        x = string.count('A')\n",
    "        elif gene == 'T':\n",
    "        x = string.count('A')\n",
    "        elif gene == 'G':\n",
    "        x = string.count('A')\n",
    "        \n",
    "        return x\n",
    "        \n",
    "    \n",
    "    #left, right = line.split(':')\n",
    "    #data[ left.strip() ] = float(right)     \n",
    "#print data "
>>>>>>> 81268a62d36ca18c7ac42161cee7ec26a756c2bb
   ]
  },
  {
   "cell_type": "markdown",
   "metadata": {},
   "source": [
    "# Exercise 2: Plot a histogram\n",
    "\n",
    "take the nucleotide composition of the gene above and plot a histogram of the A, T, G and C frequency. Have your histogram labeled nicely and give it a title. Please, choose yourself if you would like to display horizontal or vertical bars. Advanced options include change of color for individual bars, width of the bars and alignment of labels and bars."
   ]
  },
  {
   "cell_type": "code",
   "execution_count": 79,
   "metadata": {
    "collapsed": false
   },
   "outputs": [],
   "source": [
    "%matplotlib inline \n",
    "from pylab import *"
   ]
  },
  {
   "cell_type": "markdown",
   "metadata": {},
   "source": [
    "# Exercise 3: Plot a scatterplot\n",
    "\n",
    "The file `mycoplasma_gene_sequences.csv` contains the genomic sequences of all *Mycoplasma genitalium* genes. The file contains two columns separated by a coma, the `WholeCellModelID` and the `Sequence`. \n",
    "\n",
    "* Read and parse the file and compute the nucleotide composition for each gene using the `compute_nt_composition( seq )` function that you have defined in Exercise 1. Collect the nucleotide compositions f Then use the scatter function to plot a scatterplot of A content versus T content for each gene (don't forget to normalize the nucleotide content by gene length).\n",
    "\n",
    "* Indicate the length of each sequence by the dot-size in the scatterplot (hint: s input of scatter function)\n",
    "\n",
    "* Plot the scatterplot for each combination of A,G,T,C (use subplot)"
   ]
  },
  {
   "cell_type": "code",
   "execution_count": 82,
   "metadata": {
    "collapsed": false
   },
   "outputs": [],
   "source": []
  },
  {
   "cell_type": "markdown",
   "metadata": {},
   "source": [
    "# Exercise 4: Plot the phasespace\n",
    "\n",
    "in the numpy tutorial yesterday, you examined how a population of predator and prey can evolve over time theoretically (Lotka-Voltera System). Today, revisit the system and plot the phase space of the two species. In a phase space we plot the two variables against each other. \n",
    "\n",
    "In a next step, imagine, we would like to visualize how different starting conditions impact population behavior. Try having different conditions in the same phase space plot."
   ]
  },
  {
   "cell_type": "code",
   "execution_count": 1,
   "metadata": {
    "collapsed": false
   },
   "outputs": [],
   "source": [
    "import scipy.integrate"
   ]
  }
 ],
 "metadata": {
  "kernelspec": {
   "display_name": "Python 2",
   "language": "python",
   "name": "python2"
  },
  "language_info": {
   "codemirror_mode": {
    "name": "ipython",
    "version": 2
   },
   "file_extension": ".py",
   "mimetype": "text/x-python",
   "name": "python",
   "nbconvert_exporter": "python",
   "pygments_lexer": "ipython2",
   "version": "2.7.9"
  }
 },
 "nbformat": 4,
 "nbformat_minor": 0
}
