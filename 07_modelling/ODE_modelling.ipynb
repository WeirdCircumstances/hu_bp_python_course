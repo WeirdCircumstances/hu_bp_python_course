{
 "cells": [
  {
   "cell_type": "markdown",
   "metadata": {},
   "source": [
    "# Modelling with Python\n",
    "## 21/05/2015 \n",
    "### Jens Hahn"
   ]
  },
  {
   "cell_type": "markdown",
   "metadata": {},
   "source": [
    "## 1. Continuous deterministic modelling\n",
    "### Ordinary differential equations (ODE)"
   ]
  },
  {
   "cell_type": "markdown",
   "metadata": {},
   "source": [
    "In this first part, we want to have a look on ODE models. These models are deterministic, meaning every simulation\n",
    "will get you the same results, the future of the system is only determined by the initial values you set.   \n",
    "Besides that, these models use continuous values, not integers.    \n",
    "Maybe you're wondering how these models could possibly describe biology? Well, you can use this method for concentrations and very large numbers, for example in *metabolism*. "
   ]
  },
  {
   "cell_type": "markdown",
   "metadata": {},
   "source": [
    "### Let's start\n",
    "We begin with a very simple reaction, a molecule A and a molecule B react to a molecule C in a reversible reaction:\n",
    "$$\\textrm{A} + \\textrm{B} \\rightleftharpoons \\textrm{C}$$"
   ]
  },
  {
   "cell_type": "markdown",
   "metadata": {},
   "source": [
    "#### Kinetic Rate Law\n",
    "What we will need know is a formalism to describe this reaction, probably you have already heard about **Michaelis-Menten kinetics**. Nonetheless, here we want to start with the easiest possible reaction type: **Mass Action Kinetics**. You just multiply the concentrations of the reaction partners and a parameter describing the kinetic of the reaction.\n",
    "The forward reaction is $\\textrm{A} + \\textrm{B} \\rightarrow \\textrm{C}$ so we can define a reaction $\\textrm{v}_1$:\n",
    "$$\\textrm{v}_1 = [\\textrm{A}] \\times [\\textrm{B}] \\times \\textrm{k}_1$$\n",
    "we do the same for the backward reaction:\n",
    "$$\\textrm{v}_2 = [\\textrm{C}] \\times \\textrm{k}_2$$"
   ]
  },
  {
   "cell_type": "markdown",
   "metadata": {},
   "source": [
    "#### Reactions Equations\n",
    "Now we want to write down the *differential equations* themselves. \n",
    "Let's start with the changing rate of the concentration of species A:\n",
    "$$\\frac{\\textrm{d}[A]}{\\textrm{dt}} = - \\textrm{v}_1 + \\textrm{v}_2$$\n",
    "Got the idea? Then write down the equations for B and C on your own."
   ]
  },
  {
   "cell_type": "markdown",
   "metadata": {},
   "source": [
    "#### Simulation algoritm\n",
    "Simple *Euler* method:\n",
    "Maybe you already know about this method, otherwise I will give you some hints. \n",
    "The differential equation describes the change of a species in an infinitesimal small time step. You want to simulate it \n",
    "numerically, that means, you want to have a quite reasonable approximation to the solution. \n",
    "I don't want to spoil everything, but what will happen when you multiply both sides of the equation with a small time step? "
   ]
  },
  {
   "cell_type": "markdown",
   "metadata": {},
   "source": [
    "The only thing missing now are the initial values and parameter values for out model. Well, here they are:\n",
    "Initial Values\n",
    "$$[A](0) = 3.0 \\textrm{ mM}$$\n",
    "$$[B](0) = 2.0 \\textrm{ mM}$$\n",
    "$$[C](0) = 2.5 \\textrm{ mM}$$\n",
    "\n",
    "$$\\textrm{k}_1 = 0.2 \\ \\frac{1}{\\textrm{mM}\\times\\textrm{s}}$$\n",
    "\n",
    "$$\\textrm{k}_2 = 0.1 \\ \\frac{1}{\\textrm{mM}}$$\n"
   ]
  },
  {
   "cell_type": "markdown",
   "metadata": {},
   "source": [
    "#### Python\n",
    "Let's start the simulation. We begin with defining the initial states and the paramters:"
   ]
  },
  {
   "cell_type": "code",
   "execution_count": 15,
   "metadata": {
    "collapsed": false
   },
   "outputs": [
    {
     "ename": "TypeError",
     "evalue": "'int' object has no attribute '__getitem__'",
     "output_type": "error",
     "traceback": [
      "\u001b[0;31m---------------------------------------------------------------------------\u001b[0m",
      "\u001b[0;31mTypeError\u001b[0m                                 Traceback (most recent call last)",
      "\u001b[0;32m<ipython-input-15-ef27fa4905dd>\u001b[0m in \u001b[0;36m<module>\u001b[0;34m()\u001b[0m\n\u001b[1;32m     27\u001b[0m \u001b[0;32mwhile\u001b[0m \u001b[0mn\u001b[0m\u001b[0;34m<\u001b[0m\u001b[0;36m100\u001b[0m\u001b[0;34m:\u001b[0m\u001b[0;34m\u001b[0m\u001b[0m\n\u001b[1;32m     28\u001b[0m     \u001b[0mn\u001b[0m \u001b[0;34m=\u001b[0m \u001b[0mn\u001b[0m\u001b[0;34m+\u001b[0m\u001b[0;36m1\u001b[0m\u001b[0;34m\u001b[0m\u001b[0m\n\u001b[0;32m---> 29\u001b[0;31m     \u001b[0mdelta_A\u001b[0m\u001b[0;34m,\u001b[0m \u001b[0mdelta_B\u001b[0m\u001b[0;34m,\u001b[0m \u001b[0mdelta_C\u001b[0m\u001b[0;34m,\u001b[0m \u001b[0mx_t\u001b[0m \u001b[0;34m=\u001b[0m \u001b[0m_change\u001b[0m\u001b[0;34m(\u001b[0m\u001b[0mn\u001b[0m\u001b[0;34m)\u001b[0m\u001b[0;34m\u001b[0m\u001b[0m\n\u001b[0m\u001b[1;32m     30\u001b[0m \u001b[0;34m\u001b[0m\u001b[0m\n\u001b[1;32m     31\u001b[0m \u001b[0my_A\u001b[0m\u001b[0;34m.\u001b[0m\u001b[0mappend\u001b[0m\u001b[0;34m(\u001b[0m\u001b[0mA\u001b[0m \u001b[0;34m+\u001b[0m \u001b[0mdelta_A\u001b[0m\u001b[0;34m)\u001b[0m\u001b[0;34m\u001b[0m\u001b[0m\n",
      "\u001b[0;32m<ipython-input-15-ef27fa4905dd>\u001b[0m in \u001b[0;36m_change\u001b[0;34m(n)\u001b[0m\n\u001b[1;32m     19\u001b[0m \u001b[0;34m\u001b[0m\u001b[0m\n\u001b[1;32m     20\u001b[0m \u001b[0;32mdef\u001b[0m \u001b[0m_change\u001b[0m\u001b[0;34m(\u001b[0m\u001b[0mn\u001b[0m\u001b[0;34m)\u001b[0m\u001b[0;34m:\u001b[0m\u001b[0;34m\u001b[0m\u001b[0m\n\u001b[0;32m---> 21\u001b[0;31m     \u001b[0;32mreturn\u001b[0m \u001b[0;34m(\u001b[0m\u001b[0;34m-\u001b[0m \u001b[0mv_1\u001b[0m \u001b[0;34m+\u001b[0m \u001b[0mv_2\u001b[0m\u001b[0;34m)\u001b[0m \u001b[0;34m*\u001b[0m \u001b[0mx_t\u001b[0m\u001b[0;34m[\u001b[0m\u001b[0mn\u001b[0m\u001b[0;34m]\u001b[0m\u001b[0;34m,\u001b[0m \u001b[0;34m(\u001b[0m\u001b[0;34m-\u001b[0m \u001b[0mv_1\u001b[0m \u001b[0;34m+\u001b[0m \u001b[0mv_2\u001b[0m\u001b[0;34m)\u001b[0m \u001b[0;34m*\u001b[0m \u001b[0mx_t\u001b[0m\u001b[0;34m[\u001b[0m\u001b[0mn\u001b[0m\u001b[0;34m]\u001b[0m\u001b[0;34m,\u001b[0m \u001b[0;34m(\u001b[0m\u001b[0mv_1\u001b[0m \u001b[0;34m-\u001b[0m \u001b[0mv_2\u001b[0m\u001b[0;34m)\u001b[0m \u001b[0;34m*\u001b[0m \u001b[0mx_t\u001b[0m\u001b[0;34m[\u001b[0m\u001b[0mn\u001b[0m\u001b[0;34m]\u001b[0m\u001b[0;34m,\u001b[0m \u001b[0mx_t\u001b[0m\u001b[0;34m[\u001b[0m\u001b[0mn\u001b[0m\u001b[0;34m]\u001b[0m\u001b[0;34m\u001b[0m\u001b[0m\n\u001b[0m\u001b[1;32m     22\u001b[0m \u001b[0;34m\u001b[0m\u001b[0m\n\u001b[1;32m     23\u001b[0m \u001b[0;34m\u001b[0m\u001b[0m\n",
      "\u001b[0;31mTypeError\u001b[0m: 'int' object has no attribute '__getitem__'"
     ]
    }
   ],
   "source": [
    "import numpy as np\n",
    "from matplotlib import pyplot as plt\n",
    "plt.style.use('ggplot')\n",
    "%matplotlib inline\n",
    "\n",
    "# initial parameters\n",
    "A = 3.\n",
    "B = 2.\n",
    "C = 2.5\n",
    "k_1 = 0.2\n",
    "k_2 = 0.1\n",
    "\n",
    "t = range(0,100)\n",
    "A=3.0\n",
    "B=2.0\n",
    "C=2.5\n",
    "k1=0.2\n",
    "k2=0.1\n",
    "\n",
    "# initialise solutions for plotting\n",
    "v_1 = A*B*k_1\n",
    "v_2 = C*k_2\n",
    "\n",
    "y_A = [A]\n",
    "y_B = [B]\n",
    "y_C = [C]\n",
    "x_t = range(100)\n",
    "\n",
    "\n",
    "\"\"\"\n",
    "deltaA = A + (-v1+v2)*t[n]\n",
    "deltaB = B + (-v1+v2)*t[n]\n",
    "deltaC = C + (v1-v2)*t[n]\n",
    "\"\"\"\n",
    "# function to return changes\n",
    "\n",
<<<<<<< HEAD
    "def return_changes():\n",
    "    n=0\n",
    "    v1=A+B*k1\n",
    "    v2=C*k2\n",
    "    \n",
    "    deltaA, deltaB, deltaC =return_changes(n)\n",
    "    while n<100:\n",
    "        n = n+1\n",
    "        return (-v1+v2)*t[n], (-v1+v2)*t[n], (v1-v2)*t[n]\n",
=======
    "def _change(n):\n",
    "    return (- v_1 + v_2) * x_t[n], (- v_1 + v_2) * x_t[n], (v_1 - v_2) * x_t[n], x_t[n]\n",
    "\n",
>>>>>>> 81268a62d36ca18c7ac42161cee7ec26a756c2bb
    "\n",
    "# simulation loops\n",
    "\n",
    "n=0\n",
    "while n<100:\n",
    "    n = n+1\n",
    "    delta_A, delta_B, delta_C, x_t = _change(n) \n",
    "\n",
    "y_A.append(A + delta_A)\n",
    "y_B.append(B + delta_B)\n",
    "y_C.append(C + delta_C)\n",
    "\n",
    "\n",
    "# plotting of results\n",
    "\n",
    "from matplotlib import pyplot as plt\n",
    "\n",
    "plt.title('A')\n",
    "plt.plot(x_t, y_A)\n",
    "plt.show()\n"
   ]
  },
  {
   "cell_type": "markdown",
   "metadata": {},
   "source": [
    "Now it's your turn! What do we need to simulate our model for... let's say 100 seconds?\n",
    "\n",
    "Here some help:\n",
    "1. The simulation time\n",
    "2. Lists to save the simulation results\n",
    "3. A function to update the concentrations (based on the reactions)\n",
    "4. A loop to start the function again and again\n",
    "5. Some **matplotlib** to visualise the results"
   ]
  },
  {
   "cell_type": "code",
   "execution_count": 1,
   "metadata": {
    "collapsed": true
   },
   "outputs": [],
   "source": []
  },
  {
   "cell_type": "code",
   "execution_count": 10,
   "metadata": {
    "collapsed": false
   },
   "outputs": [
    {
     "data": {
      "text/plain": [
       "99"
      ]
     },
     "execution_count": 10,
     "metadata": {},
     "output_type": "execute_result"
    }
   ],
   "source": []
  },
  {
   "cell_type": "code",
   "execution_count": null,
   "metadata": {
    "collapsed": true
   },
   "outputs": [],
   "source": []
  }
 ],
 "metadata": {
  "kernelspec": {
   "display_name": "Python 2",
   "language": "python",
   "name": "python2"
  },
  "language_info": {
   "codemirror_mode": {
    "name": "ipython",
    "version": 2
   },
   "file_extension": ".py",
   "mimetype": "text/x-python",
   "name": "python",
   "nbconvert_exporter": "python",
   "pygments_lexer": "ipython2",
   "version": "2.7.9"
  }
 },
 "nbformat": 4,
 "nbformat_minor": 0
}
